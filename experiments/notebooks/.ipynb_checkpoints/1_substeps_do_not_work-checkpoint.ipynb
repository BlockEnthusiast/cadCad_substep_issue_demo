{
 "cells": [
  {
   "cell_type": "code",
   "execution_count": 2,
   "id": "f0005ca4",
   "metadata": {},
   "outputs": [],
   "source": [
    "import setup\n",
    "\n",
    "import copy\n",
    "import logging\n",
    "import numpy as np\n",
    "from radcad import Engine\n",
    "\n",
    "# import experiments.notebooks.visualizations as visualizations\n",
    "from experiments.run import run\n",
    "from model.types import Stage"
   ]
  },
  {
   "cell_type": "code",
   "execution_count": 3,
   "id": "fe7b2505",
   "metadata": {},
   "outputs": [],
   "source": [
    "# Enable/disable logging\n",
    "logger = logging.getLogger()\n",
    "logger.disabled = True"
   ]
  },
  {
   "cell_type": "code",
   "execution_count": 4,
   "id": "bc9f58e4",
   "metadata": {},
   "outputs": [],
   "source": [
    "# Import experiment templates\n",
    "from experiments.default_experiment import experiment, TIMESTEPS, DELTA_TIME"
   ]
  },
  {
   "cell_type": "code",
   "execution_count": 5,
   "id": "041c6e3f",
   "metadata": {},
   "outputs": [],
   "source": [
    "simulation = copy.deepcopy(experiment.simulations[0])"
   ]
  }
 ],
 "metadata": {
  "kernelspec": {
   "display_name": "Python 3 (ipykernel)",
   "language": "python",
   "name": "python3"
  },
  "language_info": {
   "codemirror_mode": {
    "name": "ipython",
    "version": 3
   },
   "file_extension": ".py",
   "mimetype": "text/x-python",
   "name": "python",
   "nbconvert_exporter": "python",
   "pygments_lexer": "ipython3",
   "version": "3.8.13"
  }
 },
 "nbformat": 4,
 "nbformat_minor": 5
}
